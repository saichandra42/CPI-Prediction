{
 "cells": [
  {
   "cell_type": "code",
   "execution_count": null,
   "metadata": {},
   "outputs": [],
   "source": [
    "import pandas as pd\n",
    "import seaborn as sns\n",
    "import matplotlib.pyplot as plt\n"
   ]
  },
  {
   "cell_type": "code",
   "execution_count": null,
   "metadata": {},
   "outputs": [],
   "source": [
    "overall_raw = pd.read_excel(\"../data/raw/CPIOverall.xlsx\")\n",
    "housing_raw = pd.read_excel(\"../data/raw/Housing.xlsx\")\n",
    "apparel_raw = pd.read_excel(\"../data/raw/Apparel.xlsx\")\n",
    "transportation_raw = pd.read_excel(\"../data/raw/Transportation.xlsx\")\n",
    "education_raw = pd.read_excel(\"../data/raw/Education.xlsx\")\n",
    "medical_raw = pd.read_excel(\"../data/raw/MedicalCare.xlsx\")\n",
    "food_raw = pd.read_excel(\"../data/raw/Food.xlsx\")\n",
    "recreation_raw = pd.read_excel(\"../data/raw/Recreation.xlsx\")\n",
    "other_goods_raw = pd.read_excel(\"../data/raw/OtherGoods.xlsx\")\n"
   ]
  },
  {
   "cell_type": "code",
   "execution_count": null,
   "metadata": {},
   "outputs": [],
   "source": [
    "# data transformation into time series data\n",
    "def transform_data(df):\n",
    "    transformed_data = []\n",
    "    months = df.loc[:, df.columns.drop(\"Year\")].columns\n",
    "    for data_tuple in df.itertuples():\n",
    "        year = getattr(data_tuple, 'Year')\n",
    "        for month in months:\n",
    "            value = getattr(data_tuple, month)\n",
    "            transformed_data.append(\n",
    "                ['01' + ' ' + str(month) + ' ' + str(year), value])\n",
    "    transformed_df = pd.DataFrame(transformed_data, columns=['time', 'value'])\n",
    "    transformed_df['time'] = pd.to_datetime(transformed_df['time'])\n",
    "    return transformed_df\n"
   ]
  },
  {
   "cell_type": "code",
   "execution_count": null,
   "metadata": {},
   "outputs": [],
   "source": [
    "cpi_factors = [\n",
    "    {'overall': overall_raw},\n",
    "    {'housing': housing_raw},\n",
    "    {'apparel': apparel_raw},\n",
    "    {'transporation': transportation_raw},\n",
    "    {'education': education_raw},\n",
    "    {'medical': medical_raw},\n",
    "    {'food': food_raw},\n",
    "    {'recreation': recreation_raw},\n",
    "    {'other_goods': other_goods_raw}\n",
    "]\n",
    "sns.set(rc={'figure.figsize': (18, 4)})\n",
    "\n",
    "for cpi_factor in cpi_factors:\n",
    "    name = cpi_factor.keys()\n",
    "    name = list(name)[0]\n",
    "    cpi_factor = transform_data(cpi_factor[name])\n",
    "    file_path = '../data/processed/{}.xlsx'.format(name)\n",
    "    cpi_factor.to_excel(file_path)\n",
    "    cpi_factor.plot(x='time', y='value')\n",
    "    plt.xlabel(name.capitalize())"
   ]
  },
  {
   "cell_type": "code",
   "execution_count": null,
   "metadata": {},
   "outputs": [],
   "source": []
  }
 ],
 "metadata": {
  "interpreter": {
   "hash": "d5a7c50cb37b9a8d16f83dcb11bfb78ad3a845830708c855df0980efa1084b32"
  },
  "kernelspec": {
   "display_name": "Python 3.8.8 64-bit ('base': conda)",
   "language": "python",
   "name": "python3"
  },
  "language_info": {
   "codemirror_mode": {
    "name": "ipython",
    "version": 3
   },
   "file_extension": ".py",
   "mimetype": "text/x-python",
   "name": "python",
   "nbconvert_exporter": "python",
   "pygments_lexer": "ipython3",
   "version": "3.8.8"
  },
  "orig_nbformat": 4
 },
 "nbformat": 4,
 "nbformat_minor": 2
}
